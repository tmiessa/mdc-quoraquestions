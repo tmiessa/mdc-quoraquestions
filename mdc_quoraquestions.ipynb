{
  "nbformat": 4,
  "nbformat_minor": 0,
  "metadata": {
    "colab": {
      "name": "mdc-defaultcredit.ipynb",
      "version": "0.3.2",
      "provenance": [],
      "collapsed_sections": [],
      "toc_visible": true,
      "include_colab_link": true
    },
    "kernelspec": {
      "name": "python3",
      "display_name": "Python 3"
    },
    "accelerator": "GPU"
  },
  "cells": [
    {
      "cell_type": "markdown",
      "metadata": {
        "id": "view-in-github",
        "colab_type": "text"
      },
      "source": [
        "<a href=\"https://colab.research.google.com/github/tmiessa/mdc-quoraquestions/blob/development/mdc_quoraquestions.ipynb\" target=\"_parent\"><img src=\"https://colab.research.google.com/assets/colab-badge.svg\" alt=\"Open In Colab\"/></a>"
      ]
    },
    {
      "cell_type": "markdown",
      "metadata": {
        "id": "EdSmnuNJJu7e",
        "colab_type": "text"
      },
      "source": [
        "# MDC 2019 - INF-0619 - Quora Question Pairs\n"
      ]
    },
    {
      "cell_type": "markdown",
      "metadata": {
        "id": "pXcUnOPxKY_z",
        "colab_type": "text"
      },
      "source": [
        "## Alunos\n",
        "* Matheus Pacheco\n",
        "* Raphael Santos\n",
        "* Renato Dias\n",
        "* Tiago Miessa"
      ]
    },
    {
      "cell_type": "markdown",
      "metadata": {
        "id": "wzl9aXvdJyfN",
        "colab_type": "text"
      },
      "source": [
        "## Imports"
      ]
    },
    {
      "cell_type": "code",
      "metadata": {
        "id": "8ibfVPirJ45n",
        "colab_type": "code",
        "colab": {}
      },
      "source": [
        "import sys\n",
        "import os \n",
        "import requests\n",
        "from zipfile import ZipFile\n",
        "\n",
        "import pandas as pd\n",
        "import numpy as np"
      ],
      "execution_count": 0,
      "outputs": []
    },
    {
      "cell_type": "markdown",
      "metadata": {
        "id": "MUnX084XJ0Ff",
        "colab_type": "text"
      },
      "source": [
        "## Download do Dataset"
      ]
    },
    {
      "cell_type": "code",
      "metadata": {
        "id": "oIBJ2O04hQbq",
        "colab_type": "code",
        "colab": {
          "base_uri": "https://localhost:8080/",
          "height": 85
        },
        "outputId": "6c2cd6f6-5ce4-41e9-841c-93933d396a7b"
      },
      "source": [
        "## train file\n",
        "if os.path.isfile('train.zip'):\n",
        "    print('train file already exists!')\n",
        "else:\n",
        "    print('train file does not exists, downloading...')\n",
        "    train_file = requests.get('https://onedrive.live.com/download?cid=F1E435813B40678A&resid=F1E435813B40678A%218143&authkey=AEE59XxW9rUnNpU')\n",
        "    open('train.zip', 'wb').write(train_file.content)\n",
        "    print('train file downloaded')\n",
        "## test file    \n",
        "if os.path.isfile('test.zip'):\n",
        "    print('test file already exists!')\n",
        "else:\n",
        "    print('test file does not exists, downloading...')\n",
        "    test_file = requests.get('https://onedrive.live.com/download?cid=F1E435813B40678A&resid=F1E435813B40678A%218144&authkey=ABXANysZKF3-Xa0')\n",
        "    open('test.zip', 'wb').write(test_file.content)\n",
        "    print('test file downloaded')"
      ],
      "execution_count": 10,
      "outputs": [
        {
          "output_type": "stream",
          "text": [
            "train file does not exists, downloading...\n",
            "train file downloaded\n",
            "test file does not exists, downloading...\n",
            "test file downloaded\n"
          ],
          "name": "stdout"
        }
      ]
    },
    {
      "cell_type": "code",
      "metadata": {
        "id": "dK9g_3SzJAwZ",
        "colab_type": "code",
        "outputId": "51471a1e-8442-4340-a679-102e1c16a0ab",
        "colab": {
          "base_uri": "https://localhost:8080/",
          "height": 85
        }
      },
      "source": [
        "## unzip\n",
        "if os.path.isfile('train.zip'):\n",
        "    print('unzipping train file...')\n",
        "    zf_train = ZipFile('train.zip', 'r')\n",
        "    zf_train.extractall()\n",
        "    zf_train.close()\n",
        "    print('train file unzipped')\n",
        "if os.path.isfile('test.zip'):\n",
        "    print('unzipping test file...')\n",
        "    zf_test = ZipFile('test.zip', 'r')\n",
        "    zf_test.extractall()\n",
        "    zf_test.close()\n",
        "    print('test file unzipped')\n",
        "    "
      ],
      "execution_count": 12,
      "outputs": [
        {
          "output_type": "stream",
          "text": [
            "unzipping train file...\n",
            "train file unzipped\n",
            "unzipping test file...\n",
            "test file unzipped\n"
          ],
          "name": "stdout"
        }
      ]
    }
  ]
}